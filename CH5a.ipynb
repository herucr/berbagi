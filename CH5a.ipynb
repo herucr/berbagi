{
 "cells": [
  {
   "cell_type": "code",
   "execution_count": 1,
   "metadata": {},
   "outputs": [],
   "source": [
    "# import library yang diperlukan\n",
    "import networkx as nx\n",
    "import matplotlib.pyplot as plt\n",
    "import random\n",
    "import numpy as np\n",
    "import collections"
   ]
  },
  {
   "cell_type": "code",
   "execution_count": 2,
   "metadata": {},
   "outputs": [],
   "source": [
    "\n",
    "# prediksi banyaknya edge: p x N x (N - 1) / 2\n",
    "def pred_banyak_edge(p, N):\n",
    "\treturn (p * N * (N - 1)) / 2\n",
    "\n"
   ]
  },
  {
   "cell_type": "code",
   "execution_count": 18,
   "metadata": {},
   "outputs": [
    {
     "name": "stdout",
     "output_type": "stream",
     "text": [
      "banyaknya edge                 = 499677\n",
      "banyaknya edge expected    = 499950.0\n",
      "edge complete graph            = 49995000.0\n",
      "rasio                          = 0.009994539453945395\n",
      "probabilitas p                 = 0.01\n",
      "Banyak node                    = 10000\n",
      "Prediksi banyak edge           = 499950.0\n",
      "Aktual banyak edge             = 499677\n",
      "total derajat simpul           = 999354\n",
      "rata rata derajat simpul <k>   = 99.9354\n",
      "rata rata derajat simpul <k> rumus  = 99.99000000000001\n",
      "Ukuran masing masing   cluster = [10000]\n",
      "komponen cluster terbesar      = 10000\n",
      "graph terhubung\n",
      "jenis random network           :\n",
      "connected \n"
     ]
    }
   ],
   "source": [
    "\n",
    "            \n",
    "eps = 1e-9\n",
    "edge_complete_graph = n*(n-1)/2\n",
    "link_expected = p*n*(n-1)/2\n",
    "print(\"banyaknya edge                 = \" + str(n_edge))\n",
    "print(\"banyaknya edge expected    = \" + str(link_rumus))\n",
    "print(\"edge complete graph            = \" + str(edge_complete_graph))\n",
    "print(\"rasio                          = \" + str(n_edge/edge_complete_graph))\n",
    "print(\"probabilitas p                 = \" + str(p))\n",
    "print(\"Banyak node                    = \" + str(g.number_of_nodes()))\n",
    "print(\"Prediksi banyak edge           = \" + str(pred_banyak_edge(p, n)))\n",
    "print(\"Aktual banyak edge             = \" + str(g.number_of_edges()))\n",
    "#print(\"Simpul pada graph beserta derajat masing masing\")\n",
    "#print(g.nodes())\n",
    "#print([g.degree(n) for n in g.nodes()])\n",
    "degree_total=2*g.number_of_edges()\n",
    "degree_rerata =degree_total/n\n",
    "degree_rerata_expected = p*(n-1)\n",
    "print(\"total derajat simpul           = \" + str(degree_total))\n",
    "print(\"rata rata derajat simpul <k>   = \" + str(degree_rerata))\n",
    "print(\"rata rata derajat simpul <k> rumus  = \" + str(degree_rerata_expected))\n",
    "\n",
    "components = [comp for comp in nx.connected_components(g)]\n",
    "component_size = [len(comp) for comp in components]\n",
    "component_size.sort(reverse=True)\n",
    "print(\"Ukuran masing masing   cluster = \" + str(component_size))\n",
    "print(\"komponen cluster terbesar      = \" + str(max(component_size)))\n",
    "\n",
    "if(nx.is_connected(g)):\n",
    "    print(\"graph terhubung\")\n",
    "else :\n",
    "    print(\"graph tidak terhubung\")\n",
    "    \n",
    "print(\"jenis random network           :\")\n",
    "if (degree_rerata == 0) :\n",
    "    print(\"disconnected\")\n",
    "elif (degree_rerata <1-eps) :\n",
    "    print(\"Subcritical Regime \")\n",
    "elif (degree_rerata <1+eps) :\n",
    "    print(\"critical point \")\n",
    "elif (degree_rerata <=np.log(n)) :\n",
    "    print(\"supercritical regime \")\n",
    "else:\n",
    "    print(\"connected \")\n",
    "\n",
    "\n",
    "# gambarkan networknya\n",
    "#nx.draw(g, pos=nx.circular_layout(g))\n",
    "#plt.show()"
   ]
  },
  {
   "cell_type": "code",
   "execution_count": null,
   "metadata": {},
   "outputs": [],
   "source": [
    "p = 0.01                # probabilitas p  (rentang 0 - 1)\n",
    "n = 10000                # banyaknya node \n",
    "g = nx.Graph()          #inisialisasi graph \n",
    "\n",
    "# membuat node sejumlah n, masing masing terisolasi\n",
    "for x in range (0, n):\n",
    "\tg.add_node(x)\n",
    "# membuat graf dengan probabilitas p\n",
    "n_edge=0\n",
    "for x in range (0, n):\n",
    "    for y in range (x, n):\n",
    "        # tambahkan edge dengan probabolitas  p; bika p=1, tambahkan edge untuk setiap pasang node\n",
    "        # serta x!=y\n",
    "        if (random.random() < p  or p == 1.0) & (x != y):\n",
    "            g.add_edge(x, y)\n",
    "            n_edge = n_edge+1"
   ]
  },
  {
   "cell_type": "code",
   "execution_count": 14,
   "metadata": {},
   "outputs": [
    {
     "data": {
      "text/plain": [
       "[Text(140, 0, '140'),\n",
       " Text(138, 0, '138'),\n",
       " Text(135, 0, '135'),\n",
       " Text(134, 0, '134'),\n",
       " Text(133, 0, '133'),\n",
       " Text(132, 0, '132'),\n",
       " Text(130, 0, '130'),\n",
       " Text(129, 0, '129'),\n",
       " Text(128, 0, '128'),\n",
       " Text(127, 0, '127'),\n",
       " Text(126, 0, '126'),\n",
       " Text(125, 0, '125'),\n",
       " Text(124, 0, '124'),\n",
       " Text(123, 0, '123'),\n",
       " Text(122, 0, '122'),\n",
       " Text(121, 0, '121'),\n",
       " Text(120, 0, '120'),\n",
       " Text(119, 0, '119'),\n",
       " Text(118, 0, '118'),\n",
       " Text(117, 0, '117'),\n",
       " Text(116, 0, '116'),\n",
       " Text(115, 0, '115'),\n",
       " Text(114, 0, '114'),\n",
       " Text(113, 0, '113'),\n",
       " Text(112, 0, '112'),\n",
       " Text(111, 0, '111'),\n",
       " Text(110, 0, '110'),\n",
       " Text(109, 0, '109'),\n",
       " Text(108, 0, '108'),\n",
       " Text(107, 0, '107'),\n",
       " Text(106, 0, '106'),\n",
       " Text(105, 0, '105'),\n",
       " Text(104, 0, '104'),\n",
       " Text(103, 0, '103'),\n",
       " Text(102, 0, '102'),\n",
       " Text(101, 0, '101'),\n",
       " Text(100, 0, '100'),\n",
       " Text(99, 0, '99'),\n",
       " Text(98, 0, '98'),\n",
       " Text(97, 0, '97'),\n",
       " Text(96, 0, '96'),\n",
       " Text(95, 0, '95'),\n",
       " Text(94, 0, '94'),\n",
       " Text(93, 0, '93'),\n",
       " Text(92, 0, '92'),\n",
       " Text(91, 0, '91'),\n",
       " Text(90, 0, '90'),\n",
       " Text(89, 0, '89'),\n",
       " Text(88, 0, '88'),\n",
       " Text(87, 0, '87'),\n",
       " Text(86, 0, '86'),\n",
       " Text(85, 0, '85'),\n",
       " Text(84, 0, '84'),\n",
       " Text(83, 0, '83'),\n",
       " Text(82, 0, '82'),\n",
       " Text(81, 0, '81'),\n",
       " Text(80, 0, '80'),\n",
       " Text(79, 0, '79'),\n",
       " Text(78, 0, '78'),\n",
       " Text(77, 0, '77'),\n",
       " Text(76, 0, '76'),\n",
       " Text(75, 0, '75'),\n",
       " Text(74, 0, '74'),\n",
       " Text(73, 0, '73'),\n",
       " Text(72, 0, '72'),\n",
       " Text(71, 0, '71'),\n",
       " Text(70, 0, '70'),\n",
       " Text(69, 0, '69'),\n",
       " Text(68, 0, '68'),\n",
       " Text(62, 0, '62')]"
      ]
     },
     "execution_count": 14,
     "metadata": {},
     "output_type": "execute_result"
    },
    {
     "data": {
      "image/png": "[encoded data removed]",
      "text/plain": [
       "<Figure size 432x288 with 1 Axes>"
      ]
     },
     "metadata": {
      "needs_background": "light"
     },
     "output_type": "display_data"
    }
   ],
   "source": [
    "degree_sequence = sorted([d for n, d in g.degree()], reverse=True)  # degree sequence\n",
    "degreeCount = collections.Counter(degree_sequence)\n",
    "deg, cnt = zip(*degreeCount.items())\n",
    "\n",
    "fig, ax = plt.subplots()\n",
    "plt.bar(deg, cnt, width=0.80, color=\"b\")\n",
    "\n",
    "plt.title(\"Degree Histogram\")\n",
    "plt.ylabel(\"Banyak Node\")\n",
    "plt.xlabel(\"Derajat\")\n",
    "ax.set_xticks([d for d in deg])\n",
    "ax.set_xticklabels(deg)"
   ]
  },
  {
   "cell_type": "code",
   "execution_count": null,
   "metadata": {},
   "outputs": [],
   "source": []
  },
  {
   "cell_type": "code",
   "execution_count": null,
   "metadata": {},
   "outputs": [],
   "source": []
  }
 ],
 "metadata": {
  "kernelspec": {
   "display_name": "Python 3",
   "language": "python",
   "name": "python3"
  },
  "language_info": {
   "codemirror_mode": {
    "name": "ipython",
    "version": 3
   },
   "file_extension": ".py",
   "mimetype": "text/x-python",
   "name": "python",
   "nbconvert_exporter": "python",
   "pygments_lexer": "ipython3",
   "version": "3.8.5"
  }
 },
 "nbformat": 4,
 "nbformat_minor": 4
}
