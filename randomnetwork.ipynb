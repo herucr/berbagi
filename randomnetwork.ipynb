{
 "cells": [
  {
   "cell_type": "code",
   "execution_count": 6,
   "metadata": {},
   "outputs": [],
   "source": [
    "# import library yang diperlukan\n",
    "import networkx as nx\n",
    "import matplotlib.pyplot as plt\n",
    "import random\n",
    "import numpy as np\n",
    "import collections"
   ]
  },
  {
   "cell_type": "code",
   "execution_count": 7,
   "metadata": {},
   "outputs": [],
   "source": [
    "\n",
    "# prediksi banyaknya edge: p x N x (N - 1) / 2\n",
    "def pred_banyak_edge(p, N):\n",
    "\treturn (p * N * (N - 1)) / 2\n",
    "\n"
   ]
  },
  {
   "cell_type": "code",
   "execution_count": 23,
   "metadata": {},
   "outputs": [
    {
     "name": "stdout",
     "output_type": "stream",
     "text": [
      "banyaknya edge                 = 4\n",
      "edge complete graph            = 45.0\n",
      "rasio                          = 0.08888888888888889\n",
      "probabilitas p                 = 0.1\n",
      "Banyak node                    = 10\n",
      "Prediksi banyak edge           = 4.5\n",
      "Aktual banyak edge             = 4\n",
      "Simpul pada graph beserta derajat masing masing\n",
      "[0, 1, 2, 3, 4, 5, 6, 7, 8, 9]\n",
      "[0, 0, 0, 0, 3, 1, 2, 0, 1, 1]\n",
      "total derajat simpul           = 8\n",
      "rata rata derajat simpul <k>   = 0.8\n",
      "Ukuran masing masing   cluster = [5, 1, 1, 1, 1, 1]\n",
      "komponen cluster terbesar      = 5\n",
      "graph tidak terhubung\n",
      "jenis random network           :\n",
      "Subcritical Regime \n"
     ]
    },
    {
     "data": {
      "image/png": "[encoded data removed]",
      "text/plain": [
       "<Figure size 432x288 with 1 Axes>"
      ]
     },
     "metadata": {},
     "output_type": "display_data"
    }
   ],
   "source": [
    "p = 0.1                # probabilitas p  (rentang 0 - 1)\n",
    "n = 10                  # banyaknya node \n",
    "g = nx.Graph()          #inisialisasi graph \n",
    "\n",
    "# membuat node sejumlah n, masing masing terisolasi\n",
    "for x in range (0, n):\n",
    "\tg.add_node(x)\n",
    "# membuat graf dengan probabilitas p\n",
    "n_edge=0\n",
    "for x in range (0, n):\n",
    "    for y in range (x, n):\n",
    "        # tambahkan edge dengan probabolitas  p; bika p=1, tambahkan edge untuk setiap pasang node\n",
    "        # serta x!=y\n",
    "        if (random.random() < p  or p == 1.0) & (x != y):\n",
    "            g.add_edge(x, y)\n",
    "            n_edge = n_edge+1\n",
    "            \n",
    "eps = 1e-9\n",
    "edge_complete_graph = n*(n-1)/2\n",
    "print(\"banyaknya edge                 = \" + str(n_edge))\n",
    "print(\"edge complete graph            = \" + str(edge_complete_graph))\n",
    "print(\"rasio                          = \" + str(n_edge/edge_complete_graph))\n",
    "print(\"probabilitas p                 = \" + str(p))\n",
    "print(\"Banyak node                    = \" + str(g.number_of_nodes()))\n",
    "print(\"Prediksi banyak edge           = \" + str(pred_banyak_edge(p, n)))\n",
    "print(\"Aktual banyak edge             = \" + str(g.number_of_edges()))\n",
    "print(\"Simpul pada graph beserta derajat masing masing\")\n",
    "print(g.nodes())\n",
    "print([g.degree(n) for n in g.nodes()])\n",
    "degree_total=2*g.number_of_edges()\n",
    "degree_rerata =degree_total/n\n",
    "print(\"total derajat simpul           = \" + str(degree_total))\n",
    "print(\"rata rata derajat simpul <k>   = \" + str(degree_rerata))\n",
    "components = [comp for comp in nx.connected_components(g)]\n",
    "component_size = [len(comp) for comp in components]\n",
    "component_size.sort(reverse=True)\n",
    "print(\"Ukuran masing masing   cluster = \" + str(component_size))\n",
    "print(\"komponen cluster terbesar      = \" + str(max(component_size)))\n",
    "\n",
    "if(nx.is_connected(g)):\n",
    "    print(\"graph terhubung\")\n",
    "else :\n",
    "    print(\"graph tidak terhubung\")\n",
    "    \n",
    "print(\"jenis random network           :\")\n",
    "if (degree_rerata == 0) :\n",
    "    print(\"disconnected\")\n",
    "elif (degree_rerata <1-eps) :\n",
    "    print(\"Subcritical Regime \")\n",
    "elif (degree_rerata <1+eps) :\n",
    "    print(\"critical point \")\n",
    "elif (degree_rerata <=np.log(n)) :\n",
    "    print(\"supercritical regime \")\n",
    "else:\n",
    "    print(\"connected \")\n",
    "\n",
    "\n",
    "# gambarkan networknya\n",
    "nx.draw(g, pos=nx.circular_layout(g))\n",
    "plt.show()"
   ]
  },
  {
   "cell_type": "code",
   "execution_count": 24,
   "metadata": {},
   "outputs": [
    {
     "data": {
      "text/plain": [
       "[Text(3, 0, '3'), Text(2, 0, '2'), Text(1, 0, '1'), Text(0, 0, '0')]"
      ]
     },
     "execution_count": 24,
     "metadata": {},
     "output_type": "execute_result"
    },
    {
     "data": {
      "image/png": "[encoded data removed]",
      "text/plain": [
       "<Figure size 432x288 with 1 Axes>"
      ]
     },
     "metadata": {
      "needs_background": "light"
     },
     "output_type": "display_data"
    }
   ],
   "source": [
    "degree_sequence = sorted([d for n, d in g.degree()], reverse=True)  # degree sequence\n",
    "degreeCount = collections.Counter(degree_sequence)\n",
    "deg, cnt = zip(*degreeCount.items())\n",
    "\n",
    "fig, ax = plt.subplots()\n",
    "plt.bar(deg, cnt, width=0.80, color=\"b\")\n",
    "\n",
    "plt.title(\"Degree Histogram\")\n",
    "plt.ylabel(\"Banyak Node\")\n",
    "plt.xlabel(\"Derajat\")\n",
    "ax.set_xticks([d for d in deg])\n",
    "ax.set_xticklabels(deg)"
   ]
  },
  {
   "cell_type": "code",
   "execution_count": null,
   "metadata": {},
   "outputs": [],
   "source": []
  },
  {
   "cell_type": "code",
   "execution_count": null,
   "metadata": {},
   "outputs": [],
   "source": []
  }
 ],
 "metadata": {
  "kernelspec": {
   "display_name": "Python 3",
   "language": "python",
   "name": "python3"
  },
  "language_info": {
   "codemirror_mode": {
    "name": "ipython",
    "version": 3
   },
   "file_extension": ".py",
   "mimetype": "text/x-python",
   "name": "python",
   "nbconvert_exporter": "python",
   "pygments_lexer": "ipython3",
   "version": "3.8.5"
  }
 },
 "nbformat": 4,
 "nbformat_minor": 4
}
